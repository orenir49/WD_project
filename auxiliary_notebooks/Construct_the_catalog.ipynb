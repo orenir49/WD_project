{
 "cells": [
  {
   "cell_type": "code",
   "execution_count": 1,
   "id": "ce72336c-665a-4db3-a154-9b44f4166f04",
   "metadata": {},
   "outputs": [],
   "source": [
    "cols = {\n",
    "         \"gaia_source\":\n",
    "                    [\"source_id\", \"astrometric_excess_noise\",\n",
    "                   \"astrometric_excess_noise_sig\", \"astrometric_params_solved\", \"pseudocolour\",\n",
    "                   \"visibility_periods_used\", \"astrometric_sigma5d_max\", \"ruwe\",\n",
    "                    \"phot_g_mean_flux\", \"phot_g_mean_flux_error\", \"phot_g_mean_flux_over_error\",\n",
    "                   \"phot_bp_mean_flux\", \"phot_bp_mean_flux_error\", \"phot_bp_mean_flux_over_error\",\n",
    "                    \"phot_bp_mean_mag\",\n",
    "                   \"phot_rp_mean_flux\", \"phot_rp_mean_flux_error\", \"phot_rp_mean_flux_over_error\",\n",
    "                    \"phot_rp_mean_mag\",\n",
    "                   \"bp_rp\", \"bp_g\", \"g_rp\",\n",
    "                    \"radial_velocity\", \"radial_velocity_error\",\n",
    "                    \"l\", \"b\", \"ecl_lon\", \"ecl_lat\",\n",
    "                   \"has_xp_continuous\", \"has_xp_sampled\", \"has_rvs\", \"has_epoch_photometry\", \"has_epoch_rv\",\n",
    "                   \"teff_gspphot\", \"teff_gspphot_lower\", \"teff_gspphot_upper\",\n",
    "                   \"logg_gspphot\", \"logg_gspphot_lower\", \"logg_gspphot_upper\",\n",
    "                   \"mh_gspphot\", \"mh_gspphot_lower\", \"mh_gspphot_upper\",\n",
    "                   \"distance_gspphot\", \"distance_gspphot_lower\", \"distance_gspphot_upper\",\n",
    "                   \"azero_gspphot\", \"azero_gspphot_lower\", \"azero_gspphot_upper\",\n",
    "                   \"ag_gspphot\", \"ag_gspphot_lower\", \"ag_gspphot_upper\",\n",
    "                   \"ebpminrp_gspphot\", \"ebpminrp_gspphot_lower\", \"ebpminrp_gspphot_upper\"],\n",
    "        \"astrophysical_parameters\":\n",
    "                    [\"source_id\", \"radius_flame\", \"radius_flame_lower\", \"radius_flame_upper\",\n",
    "                    \"lum_flame\", \"lum_flame_lower\", \"lum_flame_upper\",\n",
    "                    \"mass_flame\", \"mass_flame_lower\", \"mass_flame_upper\",\n",
    "                    \"age_flame\", \"age_flame_lower\", \"age_flame_upper\",\n",
    "                    \"flags_flame\", \"evolstage_flame\"],\n",
    "        \"astrophysical_parameters_supp\":\n",
    "                    [\"source_id\", \"radius_flame_spec\", \"radius_flame_spec_lower\", \"radius_flame_spec_upper\",\n",
    "                    \"lum_flame_spec\", \"lum_flame_spec_lower\", \"lum_flame_spec_upper\",\n",
    "                    \"mass_flame_spec\", \"mass_flame_spec_lower\", \"mass_flame_spec_upper\",\n",
    "                    \"age_flame_spec\", \"age_flame_spec_lower\", \"age_flame_spec_upper\",\n",
    "                    \"flags_flame_spec\", \"evolstage_flame_spec\"],\n",
    "        \"nss_two_body_orbit\":\n",
    "                    [\"source_id\", \"ra\", \"ra_error\", \"dec\", \"dec_error\", \"parallax\", \"parallax_error\",\n",
    "                     \"pmra\", \"pmra_error\", \"pmdec\", \"pmdec_error\",\n",
    "                     \"a_thiele_innes\", \"a_thiele_innes_error\",\n",
    "                     \"b_thiele_innes\", \"b_thiele_innes_error\",\n",
    "                     \"f_thiele_innes\", \"f_thiele_innes_error\",\n",
    "                     \"g_thiele_innes\", \"g_thiele_innes_error\",\n",
    "                     \"c_thiele_innes\", \"c_thiele_innes_error\",\n",
    "                     \"h_thiele_innes\", \"h_thiele_innes_error\",\n",
    "                     \"period\", \"period_error\", \"t_periastron\", \"t_periastron_error\",\n",
    "                     \"eccentricity\", \"eccentricity_error\",\n",
    "                     \"center_of_mass_velocity\", \"center_of_mass_velocity_error\",\n",
    "                     \"semi_amplitude_primary\", \"semi_amplitude_primary_error\",\n",
    "                     \"semi_amplitude_secondary\", \"semi_amplitude_secondary_error\",\n",
    "                     \"mass_ratio\", \"mass_ratio_error\", \"fill_factor_primary\", \"fill_factor_primary_error\",\n",
    "                     \"fill_factor_secondary\", \"fill_factor_secondary_error\",\n",
    "                     \"inclination\", \"inclination_error\", \"arg_periastron\", \"arg_periastron_error\",\n",
    "                     \"temperature_ratio\", \"temperature_ratio_error\", \"temperature_ratio_definition\",\n",
    "                     \"bit_index\", \"corr_vec\", \"goodness_of_fit\", \"efficiency\", \"significance\", \"flags\",\n",
    "                     \"g_luminosity_ratio\", \"astrometric_jitter\", \"nss_solution_type\"\n",
    "                    ],\n",
    "        \"binary_masses\":\n",
    "                    [\"source_id\", \"m1\", \"m1_lower\", \"m1_upper\", \"m2\", \"m2_lower\", \"m2_upper\",\n",
    "                     \"fluxratio\", \"fluxratio_lower\", \"fluxratio_upper\", \"combination_method\", \"m1_ref\"\n",
    "                    ]\n",
    "       }"
   ]
  },
  {
   "cell_type": "code",
   "execution_count": 2,
   "id": "71cacf3d",
   "metadata": {},
   "outputs": [
    {
     "name": "stdout",
     "output_type": "stream",
     "text": [
      "source_id, ra, ra_error, dec, dec_error, parallax, parallax_error, pmra, pmra_error, pmdec, pmdec_error, a_thiele_innes, a_thiele_innes_error, b_thiele_innes, b_thiele_innes_error, f_thiele_innes, f_thiele_innes_error, g_thiele_innes, g_thiele_innes_error, c_thiele_innes, c_thiele_innes_error, h_thiele_innes, h_thiele_innes_error, period, period_error, t_periastron, t_periastron_error, eccentricity, eccentricity_error, center_of_mass_velocity, center_of_mass_velocity_error, semi_amplitude_primary, semi_amplitude_primary_error, semi_amplitude_secondary, semi_amplitude_secondary_error, mass_ratio, mass_ratio_error, fill_factor_primary, fill_factor_primary_error, fill_factor_secondary, fill_factor_secondary_error, inclination, inclination_error, arg_periastron, arg_periastron_error, temperature_ratio, temperature_ratio_error, temperature_ratio_definition, bit_index, corr_vec, goodness_of_fit, efficiency, significance, flags, g_luminosity_ratio, astrometric_jitter, nss_solution_type, \n"
     ]
    }
   ],
   "source": [
    "select = ''\n",
    "for s in cols['nss_two_body_orbit']:\n",
    "    select += s + ', '\n",
    "print(select)"
   ]
  }
 ],
 "metadata": {
  "kernelspec": {
   "display_name": "Python 3 (ipykernel)",
   "language": "python",
   "name": "python3"
  },
  "language_info": {
   "codemirror_mode": {
    "name": "ipython",
    "version": 3
   },
   "file_extension": ".py",
   "mimetype": "text/x-python",
   "name": "python",
   "nbconvert_exporter": "python",
   "pygments_lexer": "ipython3",
   "version": "3.11.3"
  }
 },
 "nbformat": 4,
 "nbformat_minor": 5
}
