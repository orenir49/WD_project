{
 "cells": [
  {
   "cell_type": "code",
   "execution_count": 1,
   "metadata": {},
   "outputs": [],
   "source": [
    "import numpy as np\n",
    "import scipy\n",
    "import pandas as pd\n",
    "\n",
    "from astropy.table import Table\n",
    "from astropy import units as u\n",
    "from astropy import constants as const\n",
    "from astroquery.gaia import Gaia\n",
    "from astropy import table\n",
    "\n",
    "from tqdm import tqdm\n",
    "\n",
    "import stam\n",
    "\n",
    "import matplotlib.pyplot as plt\n",
    "from matplotlib import colors\n",
    "from matplotlib import ticker\n",
    "%matplotlib tk\n",
    "\n",
    "plt.style.use('Nature')\n",
    "\n",
    "from IPython.display import Image"
   ]
  },
  {
   "cell_type": "code",
   "execution_count": 2,
   "metadata": {},
   "outputs": [
    {
     "name": "stderr",
     "output_type": "stream",
     "text": [
      "WARNING: UnitsWarning: ''electron'.s**-1' did not parse as fits unit: At col 0, Unit ''electron'' not supported by the FITS standard.  If this is meant to be a custom unit, define it with 'u.def_unit'. To have it recognized inside a file reader or other code, enable it with 'u.add_enabled_units'. For details, see https://docs.astropy.org/en/latest/units/combining_and_defining.html [astropy.units.core]\n",
      "WARNING: UnitsWarning: 'log(cm.s**-2)' did not parse as fits unit: 'log' is not a recognized function If this is meant to be a custom unit, define it with 'u.def_unit'. To have it recognized inside a file reader or other code, enable it with 'u.add_enabled_units'. For details, see https://docs.astropy.org/en/latest/units/combining_and_defining.html [astropy.units.core]\n",
      "WARNING: UnitsWarning: 'dex' did not parse as fits unit: At col 0, Unit 'dex' not supported by the FITS standard.  If this is meant to be a custom unit, define it with 'u.def_unit'. To have it recognized inside a file reader or other code, enable it with 'u.add_enabled_units'. For details, see https://docs.astropy.org/en/latest/units/combining_and_defining.html [astropy.units.core]\n"
     ]
    }
   ],
   "source": [
    "# Nature standards: https://www.nature.com/nature/for-authors/final-submission\n",
    "figwidth_single = 89/25.4  # [inch]\n",
    "figwidth_double = 183/25.4  # [inch]\n",
    "gaia = Table.read('../data/other/GaiaDR3_100pc_clean.fits')\n",
    "parsec_imported = False"
   ]
  },
  {
   "attachments": {},
   "cell_type": "markdown",
   "metadata": {},
   "source": [
    "## Plot CMD"
   ]
  },
  {
   "cell_type": "code",
   "execution_count": 3,
   "metadata": {},
   "outputs": [],
   "source": [
    "sources = Table.read('../table_cut.fits')\n",
    "clusters = Table.from_pandas(pd.read_csv('../data/hunt_clusters/clusters.csv'))\n",
    "members = Table.from_pandas(pd.read_csv('../data/hunt_clusters/members.csv'))"
   ]
  },
  {
   "cell_type": "code",
   "execution_count": 4,
   "metadata": {},
   "outputs": [
    {
     "name": "stdout",
     "output_type": "stream",
     "text": [
      "Taking PARSEC files from ../data/PARSEC v1.2S/Gaia DR3/\n"
     ]
    }
   ],
   "source": [
    "PARSEC_path = '../data/PARSEC v1.2S/Gaia DR3/'\n",
    "models = stam.getmodels.read_parsec(path=PARSEC_path)\n",
    "parsec_imported = True"
   ]
  },
  {
   "cell_type": "code",
   "execution_count": 31,
   "metadata": {},
   "outputs": [],
   "source": [
    "def plot_cmd(tables,mrkr_colors,markers,labels,title,color_column='bp_rp',magnitude_column='mg',plot_isochrone = False, log_age = [8], mh = [0],a_v = 0,alpha=1):\n",
    "    # get tables in a list\n",
    "    # colors and markers as list of strings corresponding to each table\n",
    "    fig, ax = plt.subplots(figsize=(figwidth_single, figwidth_single), tight_layout=True)   \n",
    "    ax.hist2d(gaia[\"bp_rp\"], gaia[\"mg\"], bins=500, cmap=\"Greys\", norm=colors.PowerNorm(0.5), zorder=0.5) ## background CMD reference\n",
    "\n",
    "    if not(parsec_imported):\n",
    "        print('load parsec isochrones')\n",
    "    elif plot_isochrone:\n",
    "        log_age_res = 0.025  # [dex]\n",
    "        stage_min = 0  # pre-main sequence\n",
    "        stage_max = 10  # red giant branch\n",
    "        mass_min = 0  # [Msun]\n",
    "        mass_max = 10  # [Msun]\n",
    "        clr = ['DimGray','k','Peru']\n",
    "        for l,m,c in zip(log_age,mh,clr):\n",
    "            tracks = stam.gentracks.get_isotrack(models, [l, m], params=(\"log_age\", \"mh\"), return_table=True,\n",
    "                                        log_age_res=log_age_res, mass_min=mass_min, mass_max=mass_max,\n",
    "                                        stage=None, stage_min=stage_min, stage_max=stage_max, sort_by=\"age\", color_filter1=\"G_BP\", color_filter2=\"G_RP\",\n",
    "                    mag_filter=\"G\")\n",
    "            x = np.array(tracks[\"bp_rp\"])\n",
    "            y = np.array(tracks[\"mg\"])\n",
    "            z = np.array(tracks[\"mass\"])\n",
    "            ax.plot(x, y, 'o', markersize=0.5,label=f'{float(f\"{10**l*1e-6:.2g}\"):g}, M/H = {m:.2f}',c=c,alpha=0.5)\n",
    "\n",
    "    for tbl,clr,mrkr,lbl,av,al in zip(tables,mrkr_colors,markers,labels,a_v,alpha):\n",
    "        bp_rp = tbl[color_column] ## before dereddening\n",
    "        mg = tbl[magnitude_column] ## before dereddening\n",
    "        # ax.scatter(bp_rp, mg, s=5, c='r') \n",
    "\n",
    "        e_bv = av / 3.1\n",
    "        e_bprp, A_G = stam.gaia.get_extinction_in_band(e_bv,mag_filter=\"G\",color_filter1='G_BP',color_filter2='G_RP')\n",
    "        bp_rp_corrected = bp_rp - e_bprp\n",
    "        mg_corrected = mg - A_G\n",
    "        ax.scatter(bp_rp_corrected, mg_corrected, s=5, marker = mrkr, c=clr,label=lbl,alpha=al)\n",
    "    ax.invert_yaxis()\n",
    "    ax.set_xlabel(r\"$G_\\text{BP} - G_\\text{RP}$\")\n",
    "    ax.set_ylabel(r\"$G_\\text{abs}$\")\n",
    "    ax.set_xlim([-1, 5.5])\n",
    "    ax.set_ylim([17.6, -2])\n",
    "    ax.legend()\n",
    "    ax.set_title(title)\n",
    "    return fig"
   ]
  },
  {
   "cell_type": "code",
   "execution_count": 7,
   "metadata": {},
   "outputs": [],
   "source": [
    "uv_excess = [7,9,13,20,21,23,28]\n",
    "no_excess = [8,10,12,16,24]\n",
    "no_galex = [0,1,2,3,4,5,6,11,14,15,17,18,19,22,25,26,27]\n",
    "visible = [7,9,23,8,24,1,3,5,6,18,19,22,26,27]"
   ]
  },
  {
   "cell_type": "code",
   "execution_count": 32,
   "metadata": {},
   "outputs": [],
   "source": [
    "for i in visible:\n",
    "    src = sources[i]\n",
    "\n",
    "    # nbr = Table.read(f'../field/cluster_neighbors{i+1}.csv')\n",
    "    nbr = members[members['id'] == src['id']]\n",
    "    # fld = Table.read(f'../field/field_circ{i+1}.csv')\n",
    "    a_v = src['av_for_mass_interp']\n",
    "    mh = src['mh_for_mass_interp'] * np.ones(3)\n",
    "    log_age = [src['log_age_16'],src['log_age_50'],src['log_age_84']]\n",
    "    cluster_id = src['id']\n",
    "    cluster_name = clusters[clusters['id'] == cluster_id]['name'].data[0]\n",
    "    nbr['mg'] = nbr['phot_g_mean_mag'] +  5 * np.log10(nbr['parallax']) - 10\n",
    "\n",
    "    tables = [nbr,src]\n",
    "    mrkr_colors = ['b','r']\n",
    "    labels = [f'{len(nbr)} cluster members',f'candidate m1={src[\"m1\"]:.2g}/m2={src[\"m2\"]:.2g}']\n",
    "    # labels = [f'{len(nbr)} cluster members av = {a_v:1.2f}',f'candidate m1={src[\"parsec_m1\"]:1.1f}/m2={src[\"parsec_m2\"]:1.1f} av = {a_v:1.2f}'\n",
    "    #                         ,f'members av={a_v2:1.2f}', f'candidate av={a_v2:1.2f}']\n",
    "    markers = ['o','o']\n",
    "    alpha = [1,1]\n",
    "    ttl = f'candidate {i} in cluster ' + cluster_name\n",
    "\n",
    "    fig = plot_cmd(tables,mrkr_colors,markers,labels,ttl,'bp_rp','mg',True,log_age,mh,np.array([a_v,a_v]),alpha)\n",
    "    if i in uv_excess:\n",
    "        fig.savefig(f'../img/uv_excess/candidate{i}_cmd.png',dpi=300)\n",
    "    elif i in no_excess:\n",
    "        fig.savefig(f'../img/no_excess/candidate{i}_cmd.png',dpi=300)\n",
    "    elif i in no_galex:\n",
    "        fig.savefig(f'../img/no_galex/candidate{i}_cmd.png',dpi=300)"
   ]
  },
  {
   "attachments": {},
   "cell_type": "markdown",
   "metadata": {},
   "source": [
    "## Create auxiliary table"
   ]
  },
  {
   "cell_type": "code",
   "execution_count": 22,
   "metadata": {},
   "outputs": [
    {
     "name": "stderr",
     "output_type": "stream",
     "text": [
      "WARNING: OverflowError converting to IntType in column source_id, reverting to String. [astropy.io.ascii.fastbasic]\n",
      "WARNING: OverflowError converting to IntType in column flags, reverting to String. [astropy.io.ascii.fastbasic]\n"
     ]
    }
   ],
   "source": [
    "sources = Table.read('../mmt_hectoechelle_extra.csv')\n",
    "clusters = Table.from_pandas(pd.read_csv('../data/hunt_clusters/clusters.csv'))\n",
    "members = Table.from_pandas(pd.read_csv('../data/hunt_clusters/members.csv'))"
   ]
  },
  {
   "cell_type": "code",
   "execution_count": 12,
   "metadata": {},
   "outputs": [],
   "source": [
    "from astropy.coordinates import SkyCoord\n",
    "Gaia.ROW_LIMIT = 1000000\n",
    "\n",
    "def create_neighbors_field_files(i,ang_radius):\n",
    "    ra = sources[i]['ra']\n",
    "    dec = sources[i]['dec']\n",
    "    cluster_id = sources[i]['id']\n",
    "    neighbors = members[members['id'] == cluster_id]\n",
    "    idlst = neighbors['source_id'].data\n",
    "    \n",
    "    query = '''SELECT source_id, astrometric_excess_noise, astrometric_excess_noise_sig,\n",
    "    astrometric_params_solved, astrometric_sigma5d_max,\n",
    "     ruwe, radial_velocity, radial_velocity_error ,rv_method_used ,teff_gspphot, teff_gspphot_lower,\n",
    "         teff_gspphot_upper, logg_gspphot, logg_gspphot_lower, logg_gspphot_upper, ag_gspphot, ag_gspphot_lower,ag_gspphot_upper\n",
    "        FROM gaiadr3.gaia_source\n",
    "        WHERE source_id IN {id_lst}\n",
    "        '''.format(id_lst = tuple(neighbors['source_id'].data))\n",
    "    job = Gaia.launch_job(query= query)\n",
    "    gaiaextra = job.get_results()\n",
    "\n",
    "    pmra_lo = sources[i]['pmra_cluster'] - 3*sources[i]['pmra_std_cluster']\n",
    "    pmra_hi = sources[i]['pmra_cluster'] + 3*sources[i]['pmra_std_cluster']\n",
    "    pmdec_lo = sources[i]['pmdec_cluster'] - 3*sources[i]['pmdec_std_cluster']\n",
    "    pmdec_hi = sources[i]['pmdec_cluster'] + 3*sources[i]['pmdec_std_cluster']\n",
    "    parallax_lo = sources[i]['parallax_cluster'] - 3*sources[i]['parallax_std_cluster']\n",
    "    parallax_hi = sources[i]['parallax_cluster'] + 3*sources[i]['parallax_std_cluster']\n",
    "\n",
    "    cntr = SkyCoord(sources[i]['ra_cluster'],sources[i]['dec_cluster'],unit='deg',frame='icrs')\n",
    "\n",
    "    fieldtbl = Gaia.cone_search(cntr,radius = ang_radius*u.deg,table_name='gaiadr3.gaia_source',columns =['source_id', 'ra','dec','parallax','parallax_error',\n",
    "    'bp_rp','phot_g_mean_mag','pmra','pmra_error','pmdec','pmdec_error', 'astrometric_excess_noise', 'astrometric_excess_noise_sig',\n",
    "    'astrometric_params_solved', 'astrometric_sigma5d_max', 'ruwe','radial_velocity', \n",
    "    'radial_velocity_error' ,'rv_method_used' ,'teff_gspphot', 'teff_gspphot_lower',\n",
    "      'teff_gspphot_upper', 'logg_gspphot', 'logg_gspphot_lower', 'logg_gspphot_upper', 'ag_gspphot', 'ag_gspphot_lower','ag_gspphot_upper']).get_results()\n",
    "    cond1 =  fieldtbl['pmra'] < pmra_hi\n",
    "    cond2 = fieldtbl['pmra'] > pmra_lo\n",
    "    cond3 = fieldtbl['pmdec'] < pmdec_hi\n",
    "    cond4 = fieldtbl['pmdec'] > pmdec_lo \n",
    "    cond5 = fieldtbl['parallax'] < parallax_hi\n",
    "    cond6 = fieldtbl['parallax'] > parallax_lo \n",
    "    cond7 = np.isin(fieldtbl['source_id'],idlst) \n",
    "    cond = cond1 & cond2 & cond3 & cond4 & cond5 & cond6 &  ~(cond7)\n",
    "    fieldtbl  = fieldtbl[cond]\n",
    "  \n",
    "    # neighbors['mg'] = neighbors['phot_g_mean_mag'] + 5 * np.log10(neighbors['parallax']) - 10\n",
    "    # neighbors.keep_columns(['source_id','ra','dec','parallax','parallax_error','mg','bp_rp','id','name','probability','phot_g_mean_mag','pmra','pmra_error','pmdec','pmdec_error'])\n",
    "    # neighbors = table.join(neighbors,gaiaextra,keys=['source_id'],join_type='left')\n",
    "    # neighbors.to_pandas().to_csv(f'../folder/cluster_neighbors{i+1}.csv')\n",
    "\n",
    "    fieldtbl['mg'] = fieldtbl['phot_g_mean_mag'] + 5 * np.log10(fieldtbl['parallax']) - 10\n",
    "    fieldtbl.sort('mg')\n",
    "    # if(len(fieldtbl) > 200):\n",
    "    #     fieldtbl = fieldtbl[:200]\n",
    "    fieldtbl.to_pandas().to_csv(f'../folder/fullfield{i+1}.csv')\n",
    "    print(f'{len(neighbors)} neighbors')\n",
    "    print(f'{len(fieldtbl)} field stars')"
   ]
  }
 ],
 "metadata": {
  "kernelspec": {
   "display_name": "VENV",
   "language": "python",
   "name": "python3"
  },
  "language_info": {
   "codemirror_mode": {
    "name": "ipython",
    "version": 3
   },
   "file_extension": ".py",
   "mimetype": "text/x-python",
   "name": "python",
   "nbconvert_exporter": "python",
   "pygments_lexer": "ipython3",
   "version": "3.11.3"
  },
  "orig_nbformat": 4
 },
 "nbformat": 4,
 "nbformat_minor": 2
}
