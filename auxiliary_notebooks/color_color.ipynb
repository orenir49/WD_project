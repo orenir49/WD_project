{
 "cells": [
  {
   "cell_type": "code",
   "execution_count": 1,
   "metadata": {},
   "outputs": [],
   "source": [
    "import numpy as np\n",
    "import matplotlib.pyplot as plt\n",
    "import pandas as pd\n",
    "from astropy.table import Table\n",
    "from astropy import table\n",
    "from astroquery.gaia import Gaia\n",
    "from scipy.optimize import minimize\n",
    "import stam\n",
    "from tqdm import tqdm\n",
    "%matplotlib tk"
   ]
  },
  {
   "cell_type": "code",
   "execution_count": 2,
   "metadata": {},
   "outputs": [
    {
     "name": "stdout",
     "output_type": "stream",
     "text": [
      "Taking PARSEC files from ../data/PARSECv2.0/w_i=0.6,lin_age/\n"
     ]
    }
   ],
   "source": [
    "PARSEC_path = '../data/PARSECv2.0/w_i=0.6,lin_age/'\n",
    "models = stam.getmodels.read_parsec(path=PARSEC_path)"
   ]
  },
  {
   "cell_type": "code",
   "execution_count": 3,
   "metadata": {},
   "outputs": [],
   "source": [
    "clusters = Table.read('../data/hunt_clusters/clusters.csv')\n",
    "members = Table.read('../data/hunt_clusters/members.csv')\n",
    "sources = Table.read('../table_best.fits')\n",
    "\n",
    "\n",
    "# sources_done = Table.read('../table.fits')\n",
    "# sources = Table.read('../table_B.fits')\n",
    "# cut = ~np.isin(sources['source_id'], sources_done['source_id']) & (sources['cst'] > 5) & (sources['class_50'] > 0.5) & (sources['probability'] > 0.99)\n",
    "# sources = sources[cut]\n",
    "# sources['idx'] = 29 + np.arange(len(sources))"
   ]
  },
  {
   "cell_type": "code",
   "execution_count": 4,
   "metadata": {},
   "outputs": [],
   "source": [
    "## Define the (empirical) model color-color relation to be compared with the data\n",
    "## The fit will determine the best value of E(B-V) (at B-V=0) to minimize the chi^2\n",
    "\n",
    "data = pd.read_csv('../data/other/color_relations.csv')\n",
    "\n",
    "eta = lambda bv0: 0.97 - 0.09 * bv0\n",
    "\n",
    "e_bv = lambda bv0,e_bv0: eta(bv0)/eta(0) * e_bv0 \n",
    "\n",
    "e_ub = lambda e_bv,alpha,beta,gamma: alpha * e_bv + beta * e_bv**2 + gamma * e_bv**3\n",
    "\n",
    "def redden_f70(e_bv0):\n",
    "    bv0_arr = data['(B-V)0'].values\n",
    "    ub0_arr = data['(U-B)0'].values\n",
    "    alpha_arr = data['alpha'].values\n",
    "    beta_arr = data['beta'].values\n",
    "    gamma_arr = data['gamma'].values\n",
    "    \n",
    "    e_bv_arr = e_bv(bv0_arr,e_bv0)\n",
    "    e_ub_arr = e_ub(e_bv_arr,alpha_arr,beta_arr,gamma_arr)\n",
    "\n",
    "    bv0_arr_reddened = bv0_arr + e_bv_arr\n",
    "    ub0_arr_reddened = ub0_arr + e_ub_arr\n",
    "    \n",
    "    return bv0_arr_reddened,ub0_arr_reddened\n",
    "\n",
    "def chi_2_ccd(e_bv0,bv_arr,ub_arr):\n",
    "    bv0_arr_reddened,ub0_arr_reddened = redden_f70(e_bv0)\n",
    "    \n",
    "    cut = (bv_arr > bv0_arr_reddened[0]) & (bv_arr < bv0_arr_reddened[-1])\n",
    "    bv_arr = bv_arr[cut]\n",
    "    ub_arr = ub_arr[cut]\n",
    "\n",
    "    ub0_f70 = np.interp(bv_arr,bv0_arr_reddened,ub0_arr_reddened)\n",
    "    chi_2 = np.sum((ub_arr - ub0_f70)**2)\n",
    "    return chi_2\n",
    "\n",
    "def f70_lims(e_bv0):\n",
    "    bv_f70,ub_f70 = redden_f70(e_bv0)\n",
    "    up_lim = ub_f70 + 0.017\n",
    "    low_lim = np.interp(bv_f70-0.020,bv_f70,ub_f70)\n",
    "    return up_lim,low_lim\n",
    "\n",
    "def in_f70_lims(tbl,bv_f70,up_lim,low_lim):\n",
    "    up_lim = np.interp(tbl['bv'],bv_f70,up_lim)\n",
    "    low_lim = np.interp(tbl['bv'],bv_f70,low_lim)\n",
    "    cut = (tbl['ub'] < up_lim) & (tbl['ub'] > low_lim) & (tbl['bv'] < bv_f70[-1]) & (tbl['bv'] > bv_f70[0])\n",
    "    return tbl[cut]\n",
    "\n",
    "def fit_and_plot(idx):\n",
    "    clstr_id = sources[sources['idx']== idx]['id'][0]\n",
    "    clstr = clusters[clusters['id']==clstr_id]\n",
    "    memb = members[members['id']==clstr_id]\n",
    "\n",
    "    cut = (memb['probability'] > 0.99) & (memb['non_single_star'] == 0)\n",
    "    memb = memb[cut]\n",
    "\n",
    "    query = f'''SELECT source_id, u_jkc_mag, v_jkc_mag, b_jkc_mag FROM gaiadr3.synthetic_photometry_gspc WHERE source_id IN {tuple(memb['source_id'])}'''\n",
    "    job = Gaia.launch_job(query)\n",
    "    r = job.get_results()\n",
    "\n",
    "    cut = (~r['u_jkc_mag'].mask) & (~r['v_jkc_mag'].mask) & (~r['b_jkc_mag'].mask)\n",
    "    r = r[cut]\n",
    "\n",
    "    tbl = table.join(memb,r,keys='source_id')\n",
    "    tbl['mg'] = tbl['phot_g_mean_mag'] - 5 * np.log10(1000/tbl['parallax']) + 5\n",
    "    tbl['bv'] = tbl['b_jkc_mag'] - tbl['v_jkc_mag']\n",
    "    tbl['ub'] = tbl['u_jkc_mag'] - tbl['b_jkc_mag']\n",
    "    tbl = tbl['source_id','mg','bp_rp','bv','ub']\n",
    "\n",
    "    ebv_guess = clstr['a_v_50'][0] / 3.1\n",
    "    tbl.sort('bv')\n",
    "\n",
    "    res = minimize(chi_2_ccd,ebv_guess,args=(tbl['bv'],tbl['ub']),bounds=[(0,5*ebv_guess)])\n",
    "    ebv = res.x[0]\n",
    "\n",
    "    # fig,(ax1,ax2) = plt.subplots(nrows=2,dpi=120,gridspec_kw={'height_ratios':[3,1]})\n",
    "    # fig.tight_layout()\n",
    "    bv_f70,ub_f70 = redden_f70(ebv)\n",
    "    cut = tbl['bv'] < bv_f70[-1]\n",
    "    bv_plot = tbl['bv'][cut]\n",
    "    ub_plot = tbl['ub'][cut]\n",
    "\n",
    "    up_lim,low_lim = f70_lims(ebv)\n",
    "    tbl_mtso = in_f70_lims(tbl,bv_f70,up_lim,low_lim)\n",
    "\n",
    "    # ax1.plot(bv_f70,ub_f70,'k-',label=f'F70 ebv={ebv:.3f}')\n",
    "    # ax1.fill_between(bv_f70,up_lim,low_lim,alpha=0.5,color='Gold')\n",
    "    # ax1.scatter(bv_plot,ub_plot,s=10,c='r',label='Data')\n",
    "    # ax1.scatter(tbl_mtso['bv'],tbl_mtso['ub'],s=1,c='g',label='Good MSTO')\n",
    "    # ax1.set_xlabel('B-V')\n",
    "    # ax1.set_ylabel('U-B')\n",
    "    # ax1.invert_yaxis()\n",
    "    # ax1.legend()\n",
    "    # ax1.set_title(f'candidate {idx}')\n",
    "    # textstr = f'{len(memb)} reliable cluster members\\n {len(tbl_mtso)} good MSTO stars'\n",
    "    # props = dict(boxstyle='round', facecolor='k', alpha=0.5)\n",
    "    # ax1.text(0.05, 0.2, textstr, transform=ax1.transAxes, fontsize=12,\n",
    "    #         verticalalignment='top', bbox=props)\n",
    "    # ax2.set_xlabel('U-B')\n",
    "    # ax2.set_ylabel(r'$\\Delta$ (U-B)')\n",
    "    # ax2.scatter(ub_plot,ub_plot-np.interp(bv_plot,bv_f70,ub_f70),s=10,c='r')\n",
    "    # ax2.scatter(tbl_mtso['ub'],tbl_mtso['ub']-np.interp(tbl_mtso['bv'],bv_f70,ub_f70),s=1,c='g')\n",
    "    # ax2.fill_between(ub_f70,up_lim-ub_f70,low_lim-ub_f70,alpha=0.5,color='Gold')\n",
    "    # ax2.invert_yaxis()\n",
    "    return ebv,tbl_mtso\n",
    "\n",
    "# color_fil_1, color_fil_2, mag_fil = \"G_BP\", \"G_RP\", \"G\" ## no rotation\n",
    "# model = models ## no rotation\n",
    "\n",
    "color_fil_1, color_fil_2, mag_fil = \"G_BP_i45\", \"G_RP_i45\", \"G_i45\" ## rotation with 45 deg inclination\n",
    "\n",
    "def chi_2_cmd(age,mh,bp_rp,mg,ebv):\n",
    "    if age <= 45:\n",
    "            age_res = 5e-4 # [Gyr]\n",
    "    elif age <= 100:\n",
    "        age_res = 1e-3\n",
    "    else:\n",
    "        age_res = 1e-2\n",
    "    stage_min = 0  # pre-main sequence\n",
    "    stage_max = 10  # red giant branch\n",
    "    mass_min = 0  # [Msun]\n",
    "    mass_max = 20  # [Msun]\n",
    "    tracks = stam.gentracks.get_isotrack(models, [age * 1e-3, mh], params=(\"age\", \"mh\"), return_table=True,\n",
    "                                    age_res=age_res, mass_min=mass_min, mass_max=mass_max, mh_res = 0.02,\n",
    "                                    stage=None, stage_min=stage_min, stage_max=stage_max, sort_by=\"age\", color_filter1=color_fil_1, color_filter2=color_fil_2,\n",
    "                mag_filter=mag_fil)\n",
    "    x = np.array(tracks[\"bp_rp\"])\n",
    "    y = np.array(tracks[\"mg\"])\n",
    "    xx,yy = [a for _,a in sorted(zip(y,x))], np.sort(y)\n",
    "    \n",
    "    e_bprp, A_G = stam.gaia.get_extinction_in_band(ebv,mag_filter=\"G\",color_filter1='G_BP',color_filter2='G_RP')\n",
    "    bp_rp_corrected = bp_rp - e_bprp\n",
    "    mg_corrected = mg - A_G\n",
    "    bp_rp_model = np.interp(mg_corrected,yy,xx)\n",
    "    chi_2 = np.sum((bp_rp_corrected - bp_rp_model)**2)\n",
    "    return chi_2/len(bp_rp_corrected)\n",
    "\n",
    "def fit_cluster_cmd(idx):\n",
    "    ebv,tbl_mtso = fit_and_plot(idx)\n",
    "    if len(tbl_mtso) >= 4:\n",
    "        age = np.concatenate([np.arange(10,45,1),np.arange(45,100,5),np.arange(100,1001,50)])\n",
    "        mh = np.arange(-0.6,0.07,0.05)\n",
    "        age,mh = np.meshgrid(age,mh)\n",
    "        chi2_mat = np.zeros((mh.shape[0],age.shape[1]))\n",
    "        for i in tqdm(range(age.shape[1])):\n",
    "            for j in range(mh.shape[0]):\n",
    "                chi2_mat[j,i] = chi_2_cmd(age[j,i],mh[j,i],tbl_mtso['bp_rp'],tbl_mtso['mg'],ebv)\n",
    "\n",
    "        j,i = np.unravel_index(np.argmin(chi2_mat), chi2_mat.shape)\n",
    "        age_best = age[j,i]\n",
    "        mh_best = mh[j,i]\n",
    "\n",
    "        if age_best <= 45:\n",
    "            age_res = 5e-4 # [Gyr]\n",
    "        elif age_best <= 100:\n",
    "            age_res = 1e-3\n",
    "        else:\n",
    "            age_res = 1e-2\n",
    "        stage_min = 0  # pre-main sequence\n",
    "        stage_max = 10  # red giant branch\n",
    "        mass_min = 0  # [Msun]\n",
    "        mass_max = 10  # [Msun]\n",
    "\n",
    "        tracks = stam.gentracks.get_isotrack(models, [age_best * 1e-3, mh_best], params=(\"age\", \"mh\"), return_table=True,\n",
    "                                            age_res=age_res, mass_min=mass_min, mass_max=mass_max, mh_res = 0.02,\n",
    "                                            stage=None, stage_min=stage_min, stage_max=stage_max, sort_by=\"age\", color_filter1=color_fil_1, color_filter2=color_fil_2,\n",
    "                        mag_filter=mag_fil)\n",
    "\n",
    "        x = np.array(tracks[\"bp_rp\"])\n",
    "        y = np.array(tracks[\"mg\"])\n",
    "        xx,yy = [a for _,a in sorted(zip(y,x))], np.sort(y)\n",
    "\n",
    "        e_bprp, A_G = stam.gaia.get_extinction_in_band(ebv,mag_filter=\"G\",color_filter1='G_BP',color_filter2='G_RP')\n",
    "        bp_rp_corrected = tbl_mtso['bp_rp'] - e_bprp\n",
    "        mg_corrected = tbl_mtso['mg'] - A_G\n",
    "        bp_rp_model = np.interp(np.union1d(mg_corrected,yy),yy,xx)\n",
    "\n",
    "        clstr_id = sources[sources['idx']== idx]['id'][0]\n",
    "        memb = members[members['id']==clstr_id]\n",
    "        cut = (memb['probability'] > 0.99) & (memb['non_single_star'] == 0)\n",
    "        memb = memb[cut]\n",
    "        memb['mg'] = memb['phot_g_mean_mag'] - 5 * np.log10(1000/memb['parallax']) + 5\n",
    "\n",
    "        fig,ax = plt.subplots(dpi=120)\n",
    "        ax.scatter(bp_rp_corrected,mg_corrected,s=10,c='r',label='Good MSTO')\n",
    "        ax.scatter(memb['bp_rp'] - e_bprp,memb['mg'] - A_G,s=5,c='b',label='All members')\n",
    "        ax.plot(bp_rp_model,np.union1d(mg_corrected,yy), 'ko', markersize=1,label=f'PARSEC age={int(age_best)} Myr, [Fe/H]={mh_best:.2f}')\n",
    "        ax.set_xlabel('BP-RP')\n",
    "        ax.set_ylabel('G')\n",
    "        ax.invert_yaxis()\n",
    "        ax.legend()\n",
    "        ax.set_title(f'candidate {idx}')\n",
    "        plt.show()\n",
    "        return age_best, mh_best, ebv\n",
    "    else:\n",
    "        print(f'Candidate {idx} has only {len(tbl_mtso)} good MSTO stars, not enough to fit the isochrone.')\n",
    "        return np.nan, np.nan, np.nan\n",
    "    \n",
    "def photometric_mass(age,mh,ebv,src):    \n",
    "    src['e_bv'] = ebv\n",
    "    color_excess_key = 'e_bv'\n",
    "    n_realizations = 10000\n",
    "    correct_extinction = True\n",
    "    if age <= 45:\n",
    "        age_res = 5e-4 # [Gyr]\n",
    "    elif age <= 100:\n",
    "        age_res = 1e-3\n",
    "    else:\n",
    "        age_res = 1e-2\n",
    "    stage_min = 0  # pre-main sequence\n",
    "    stage_max = 10  # red giant branch\n",
    "    mass_min = 0  # [Msun]\n",
    "    mass_max = 10  # [Msun]\n",
    "        \n",
    "    m1, m1_err = stam.run.multirun(src, vals=[age * 1e-3, mh], params=(\"age\", \"mh\"), suffix=\"\", is_save=False,\n",
    "                                                track_type=\"isotrack\", assign_param=\"mass\", is_extrapolate=False, rbf_func=\"linear\",\n",
    "                                                    output_type=\"csv\", output_path=\"./stam_output/\", n_realizations=n_realizations, interp_fun=\"griddata\",\n",
    "                                                    models=models, correct_extinction=correct_extinction, color_excess_key=color_excess_key , mh_res = 0.02,\n",
    "                                                    use_reddening_key=False, mass_min=mass_min, mass_max=mass_max,stage=None, stage_min=stage_min, stage_max=stage_max, age_res=age_res,\n",
    "                                                    color_filter1=color_fil_1, color_filter2=color_fil_2, mag_filter=mag_fil)\n",
    "    return m1[0], m1_err[0]\n",
    "    "
   ]
  },
  {
   "cell_type": "code",
   "execution_count": 5,
   "metadata": {},
   "outputs": [
    {
     "name": "stderr",
     "output_type": "stream",
     "text": [
      "100%|██████████| 65/65 [00:19<00:00,  3.27it/s]\n",
      "2024-03-12 10:32:40 - INFO - Using isotrack...\n",
      "2024-03-12 10:32:40 - INFO - Calculating Gaia uncertainties...\n",
      "2024-03-12 10:32:40 - INFO - Applying extinction correction...\n",
      "2024-03-12 10:32:40 - INFO - Assigning mass using 10000 realizations...\n",
      "2024-03-12 10:32:40 - INFO - Assigning mass...\n",
      "2024-03-12 10:32:40 - INFO - Ignoring twin binary sequence...\n"
     ]
    },
    {
     "name": "stdout",
     "output_type": "stream",
     "text": [
      "Using griddata interpolation...\n"
     ]
    },
    {
     "name": "stderr",
     "output_type": "stream",
     "text": [
      "100%|██████████| 1/1 [00:00<00:00, 414.66it/s]\n",
      "100%|██████████| 65/65 [00:19<00:00,  3.27it/s]\n",
      "2024-03-12 10:33:00 - INFO - Using isotrack...\n",
      "2024-03-12 10:33:00 - INFO - Calculating Gaia uncertainties...\n",
      "2024-03-12 10:33:00 - INFO - Applying extinction correction...\n",
      "2024-03-12 10:33:00 - INFO - Assigning mass using 10000 realizations...\n",
      "2024-03-12 10:33:00 - INFO - Assigning mass...\n",
      "2024-03-12 10:33:00 - INFO - Ignoring twin binary sequence...\n"
     ]
    },
    {
     "name": "stdout",
     "output_type": "stream",
     "text": [
      "Using griddata interpolation...\n"
     ]
    },
    {
     "name": "stderr",
     "output_type": "stream",
     "text": [
      "100%|██████████| 1/1 [00:00<00:00, 322.37it/s]\n",
      "100%|██████████| 65/65 [00:19<00:00,  3.26it/s]\n",
      "2024-03-12 10:33:20 - INFO - Using isotrack...\n",
      "2024-03-12 10:33:20 - INFO - Calculating Gaia uncertainties...\n",
      "2024-03-12 10:33:20 - INFO - Applying extinction correction...\n",
      "2024-03-12 10:33:20 - INFO - Assigning mass using 10000 realizations...\n",
      "2024-03-12 10:33:20 - INFO - Assigning mass...\n",
      "2024-03-12 10:33:20 - INFO - Ignoring twin binary sequence...\n"
     ]
    },
    {
     "name": "stdout",
     "output_type": "stream",
     "text": [
      "Using griddata interpolation...\n"
     ]
    },
    {
     "name": "stderr",
     "output_type": "stream",
     "text": [
      "100%|██████████| 1/1 [00:00<00:00, 359.53it/s]\n",
      "100%|██████████| 65/65 [00:19<00:00,  3.26it/s]\n",
      "2024-03-12 10:33:41 - INFO - Using isotrack...\n",
      "2024-03-12 10:33:41 - INFO - Calculating Gaia uncertainties...\n",
      "2024-03-12 10:33:41 - INFO - Applying extinction correction...\n",
      "2024-03-12 10:33:41 - INFO - Assigning mass using 10000 realizations...\n",
      "2024-03-12 10:33:41 - INFO - Assigning mass...\n",
      "2024-03-12 10:33:41 - INFO - Ignoring twin binary sequence...\n"
     ]
    },
    {
     "name": "stdout",
     "output_type": "stream",
     "text": [
      "Using griddata interpolation...\n"
     ]
    },
    {
     "name": "stderr",
     "output_type": "stream",
     "text": [
      "100%|██████████| 1/1 [00:00<00:00, 378.38it/s]\n",
      "100%|██████████| 65/65 [00:19<00:00,  3.27it/s]\n",
      "2024-03-12 10:34:01 - INFO - Using isotrack...\n",
      "2024-03-12 10:34:01 - INFO - Calculating Gaia uncertainties...\n",
      "2024-03-12 10:34:01 - INFO - Applying extinction correction...\n",
      "2024-03-12 10:34:01 - INFO - Assigning mass using 10000 realizations...\n",
      "2024-03-12 10:34:01 - INFO - Assigning mass...\n",
      "2024-03-12 10:34:01 - INFO - Ignoring twin binary sequence...\n"
     ]
    },
    {
     "name": "stdout",
     "output_type": "stream",
     "text": [
      "Using griddata interpolation...\n"
     ]
    },
    {
     "name": "stderr",
     "output_type": "stream",
     "text": [
      "100%|██████████| 1/1 [00:00<00:00, 420.40it/s]\n",
      "100%|██████████| 65/65 [00:19<00:00,  3.25it/s]\n",
      "2024-03-12 10:34:21 - INFO - Using isotrack...\n",
      "2024-03-12 10:34:21 - INFO - Calculating Gaia uncertainties...\n",
      "2024-03-12 10:34:21 - INFO - Applying extinction correction...\n",
      "2024-03-12 10:34:21 - INFO - Assigning mass using 10000 realizations...\n",
      "2024-03-12 10:34:21 - INFO - Assigning mass...\n",
      "2024-03-12 10:34:21 - INFO - Ignoring twin binary sequence...\n"
     ]
    },
    {
     "name": "stdout",
     "output_type": "stream",
     "text": [
      "Using griddata interpolation...\n"
     ]
    },
    {
     "name": "stderr",
     "output_type": "stream",
     "text": [
      "100%|██████████| 1/1 [00:00<00:00, 431.82it/s]\n",
      "100%|██████████| 65/65 [00:19<00:00,  3.26it/s]\n",
      "2024-03-12 10:34:42 - INFO - Using isotrack...\n",
      "2024-03-12 10:34:42 - INFO - Calculating Gaia uncertainties...\n",
      "2024-03-12 10:34:42 - INFO - Applying extinction correction...\n",
      "2024-03-12 10:34:42 - INFO - Assigning mass using 10000 realizations...\n",
      "2024-03-12 10:34:42 - INFO - Assigning mass...\n",
      "2024-03-12 10:34:42 - INFO - Ignoring twin binary sequence...\n"
     ]
    },
    {
     "name": "stdout",
     "output_type": "stream",
     "text": [
      "Using griddata interpolation...\n"
     ]
    },
    {
     "name": "stderr",
     "output_type": "stream",
     "text": [
      "100%|██████████| 1/1 [00:00<00:00, 460.86it/s]\n",
      "100%|██████████| 65/65 [00:19<00:00,  3.27it/s]\n",
      "2024-03-12 10:35:02 - INFO - Using isotrack...\n",
      "2024-03-12 10:35:02 - INFO - Calculating Gaia uncertainties...\n",
      "2024-03-12 10:35:02 - INFO - Applying extinction correction...\n",
      "2024-03-12 10:35:02 - INFO - Assigning mass using 10000 realizations...\n",
      "2024-03-12 10:35:02 - INFO - Assigning mass...\n",
      "2024-03-12 10:35:02 - INFO - Ignoring twin binary sequence...\n"
     ]
    },
    {
     "name": "stdout",
     "output_type": "stream",
     "text": [
      "Using griddata interpolation...\n"
     ]
    },
    {
     "name": "stderr",
     "output_type": "stream",
     "text": [
      "100%|██████████| 1/1 [00:00<00:00, 423.28it/s]\n"
     ]
    }
   ],
   "source": [
    "new_sources = sources.copy()\n",
    "m1_col = []\n",
    "m1_err_col = []\n",
    "age_col = []\n",
    "mh_col = []\n",
    "av_col = []\n",
    "for idx in sources['idx']:\n",
    "    age,mh,ebv = fit_cluster_cmd(idx)\n",
    "    if np.isnan(age):\n",
    "        new_sources.remove_row(np.where(new_sources['idx'] == idx)[0][0])\n",
    "    else:\n",
    "        m1,m1_err = photometric_mass(age,mh,ebv,sources[sources['idx'] == idx])\n",
    "        m1_col.append(m1)\n",
    "        m1_err_col.append(m1_err)\n",
    "        age_col.append(age)\n",
    "        mh_col.append(mh)\n",
    "        av_col.append(ebv * 3.1)"
   ]
  },
  {
   "cell_type": "code",
   "execution_count": 6,
   "metadata": {},
   "outputs": [],
   "source": [
    "new_sources['m1'] = m1_col\n",
    "new_sources['m1_err'] = m1_err_col\n",
    "new_sources['age'] = age_col\n",
    "new_sources['mh_for_mass_interp'] = mh_col\n",
    "new_sources['av_for_mass_interp'] = av_col\n",
    "new_sources.write('../table_best.fits',overwrite=True)"
   ]
  }
 ],
 "metadata": {
  "kernelspec": {
   "display_name": ".venv",
   "language": "python",
   "name": "python3"
  },
  "language_info": {
   "codemirror_mode": {
    "name": "ipython",
    "version": 3
   },
   "file_extension": ".py",
   "mimetype": "text/x-python",
   "name": "python",
   "nbconvert_exporter": "python",
   "pygments_lexer": "ipython3",
   "version": "3.10.12"
  }
 },
 "nbformat": 4,
 "nbformat_minor": 2
}
