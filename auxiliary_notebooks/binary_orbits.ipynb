{
 "cells": [
  {
   "cell_type": "code",
   "execution_count": 1,
   "metadata": {},
   "outputs": [],
   "source": [
    "from astropy.time import Time\n",
    "from PyAstronomy import pyasl\n",
    "import numpy as np\n",
    "from astropy.io import fits\n",
    "from astropy.table import Table\n",
    "import astropy.units as u\n",
    "import matplotlib.pyplot as plt\n",
    "%matplotlib tk\n",
    "from datetime import datetime"
   ]
  },
  {
   "cell_type": "markdown",
   "metadata": {},
   "source": [
    "The parameters of the functions below are:\n",
    "* 'm1,m2': masses of primary and companion in units of solar mass.\n",
    "* 'p': period in days.\n",
    "* 'e': eccentricity.\n",
    "* 'i': inclination in degrees.\n",
    "* 'T0': time of periastron (in JD from Gaia- given for 2016.0 reference epoch)\n",
    "* 'parallax': Gaia parallax in mas.\n",
    "\n",
    "Tip for using the BinaryOrbit class:\n",
    "* The z-axis is the line of sight from the system to the observer.\n",
    "* The x-y plane is the projected plane we see.\n",
    "* An orbit with 0 inclination is purely in the projected plane (z=const).\n",
    "* All the units are MKS (meters, meters per second etc)"
   ]
  },
  {
   "cell_type": "code",
   "execution_count": 6,
   "metadata": {},
   "outputs": [],
   "source": [
    "def get_days_since_periastron(t0,today):\n",
    "    ref_epoch = Time('2016.0',format='jyear') ## gaia DR3 reference epoch in Julian years\n",
    "    ref_epoch.format = 'jd'\n",
    "    t1 = t0 + ref_epoch ## the absolute time of periastron in Julian days (t0 is relative to ref_epoch)\n",
    "    t2 = Time(today, format='datetime')\n",
    "    t2.format = 'jd'\n",
    "    return t2 - t1\n",
    "\n",
    "def plot_radial_velocity(m1, m2, p, e, i, T0, reference = datetime.today() ,plot_companion = False):\n",
    "    bo = pyasl.BinaryOrbit(m2/m1, m2+m1, per = p , e = e, i = i) ## solve the orbit\n",
    "    days = get_days_since_periastron(T0,reference)\n",
    "    t_vec = np.arange(days.value,days.value+p,1)\n",
    "    sec_per_day = 24*3600\n",
    "    km_per_m = 1e-3\n",
    "    v = bo.xyzVel(t_vec * sec_per_day)[0][:,2] ## get the z (radial) component of the primary velocity (meter/sec)\n",
    "    v = v * km_per_m  ## convert to km/s\n",
    "\n",
    "    fig,ax = plt.subplots(figsize=(5,5),dpi=120)\n",
    "    ax.plot(t_vec - days.value,v,label='primary',color='RoyalBlue')\n",
    "    \n",
    "    if plot_companion:\n",
    "        v2 = bo.xyzVel(t_vec * sec_per_day)[1][:,2] ## get the z (radial) component of the companion velocity (meter/sec)\n",
    "        v2 = v2 * km_per_m  ## convert to km/s\n",
    "        ax.plot(t_vec - days.value,v2,label='companion',color='Crimson')\n",
    "        ax.legend()\n",
    "    ax.grid()\n",
    "    ax.set_xlabel('t (days)',fontdict={'size':14})\n",
    "    ax.set_ylabel(r'$v (km/s)$',fontdict={'size':14})\n",
    "    ax.set_title('RV from today',fontdict={'size':14})\n",
    "    fig.show()\n",
    "\n",
    "def plot_projected_orbit(m1, m2, p, e, i, parallax, T0):\n",
    "    bo = pyasl.BinaryOrbit(m2/m1, m2+m1, per = p , e = e, i = i) ## solve the orbit\n",
    "    days = get_days_since_periastron(T0,datetime.today())\n",
    "    t_vec = np.arange(days.value,days.value + p,1)\n",
    "    sec_per_day = 24*3600\n",
    "    distance = 1000 / parallax ## distance in parsec\n",
    "    r1,r2 = bo.xyzPos(t_vec * sec_per_day) ## get the position of the primary and companion (meter) as a function of time\n",
    "    x1 = r1[:,0] / (distance * u.pc).to_value('meter') * 206265 *1000 ## convert to milliarcsec\n",
    "    y1 = r1[:,1] / (distance * u.pc).to_value('meter') * 206265 *1000 ## convert to milliarcsec\n",
    "    x2 = r2[:,0] / (distance * u.pc).to_value('meter') * 206265 *1000 ## convert to milliarcsec\n",
    "    y2 = r2[:,1] / (distance * u.pc).to_value('meter') * 206265 *1000 ## convert to milliarcsec\n",
    "\n",
    "    fig,ax = plt.subplots(figsize=(5,5),dpi=120)\n",
    "    ax.plot(x1,y1,label='primary',color='RoyalBlue')\n",
    "    ax.plot(x2,y2,label='companion',color='Crimson')\n",
    "    ax.set_xlabel('x (mas)',fontdict={'size':14})\n",
    "    ax.set_ylabel('y (mas)',fontdict={'size':14})\n",
    "    ax.scatter(x1[0],y1[0],color='black',marker='X',s=50)\n",
    "    ax.scatter(x2[0],y2[0],color='black',marker='X',s=50,label='today')\n",
    "    ax.legend()\n",
    "    ax.grid()\n",
    "    fig.show()\n",
    "\n",
    "def plot_projected_separation(m1, m2, p, e, i, parallax, T0):\n",
    "    bo = pyasl.BinaryOrbit(m2/m1, m2+m1, per = p , e = e, i = i) ## solve the orbit\n",
    "    days = get_days_since_periastron(T0,datetime.today())\n",
    "    t_vec = np.arange(days.value,days.value + p,1)\n",
    "    sec_per_day = 24*3600\n",
    "    distance = 1000 / parallax ## distance in parsec\n",
    "    r1,r2 = bo.xyzPos(t_vec * sec_per_day) ## get the position of the primary and companion (meter) as a function of time\n",
    "    sep = np.linalg.norm((r1-r2)[:,:2],axis=1) ## the projected separation in the x-y plane (meter)\n",
    "    sep = sep / (distance * u.pc).to_value('meter') * 206265 *1000 ## convert to milliarcsec\n",
    "    \n",
    "    fig,ax = plt.subplots(figsize=(5,5),dpi=120)\n",
    "    ax.plot(t_vec - days.value,sep)\n",
    "    ax.set_xlabel('t (days)',fontdict={'size':14})\n",
    "    ax.set_ylabel('separation (mas)',fontdict={'size':14})\n",
    "    ax.set_title('projected separation from today',fontdict={'size':14})\n",
    "    ax.grid()\n",
    "    fig.show()\n"
   ]
  },
  {
   "cell_type": "code",
   "execution_count": 3,
   "metadata": {},
   "outputs": [],
   "source": [
    "table_0 = Table.read('../table_B.fits',format='fits')\n",
    "\n",
    "idx = 249\n",
    "m1 = table_0['m1'][idx]\n",
    "m1_err = table_0['m1_err'][idx]\n",
    "m2 = table_0['m2'][idx]\n",
    "m2_err = table_0['m2_err'][idx]\n",
    "parallax = table_0['parallax'][idx]\n",
    "distance = 1000/parallax\n",
    "\n",
    "period = table_0['period'][idx]\n",
    "period_err = table_0['period_error'][idx]\n",
    "\n",
    "eccentricity = table_0['eccentricity'][idx]\n",
    "eccentricity_err = table_0['eccentricity_error'][idx]\n",
    "\n",
    "inclination = table_0['i_deg'][idx]\n",
    "inclination_err = table_0['i_deg_error'][idx]\n",
    "\n",
    "t0 = table_0['t_periastron'][idx]\n",
    "t0_err = table_0['t_periastron_error'][idx]"
   ]
  },
  {
   "cell_type": "code",
   "execution_count": 5,
   "metadata": {},
   "outputs": [
    {
     "name": "stdout",
     "output_type": "stream",
     "text": [
      "m1 over error = 11.068297915467632\n",
      "m2 over error = 10.88638610960198\n",
      "period over error = 63.898960344551284\n",
      "eccentricity over error = 16.96621522770087\n",
      "inclination over error = 230.06507501670214\n",
      "t0 over error = 6.081876306165071\n"
     ]
    }
   ],
   "source": [
    "print(f'm1 over error = {m1/m1_err}')\n",
    "print(f'm2 over error = {m2/m2_err}')\n",
    "print(f'period over error = {period/period_err}')\n",
    "print(f'eccentricity over error = {eccentricity/eccentricity_err}')\n",
    "print(f'inclination over error = {inclination/inclination_err}')\n",
    "print(f't0 over error = {abs(t0/t0_err)}')"
   ]
  },
  {
   "cell_type": "code",
   "execution_count": 13,
   "metadata": {},
   "outputs": [
    {
     "name": "stderr",
     "output_type": "stream",
     "text": [
      "WARNING: TimeDeltaMissingUnitWarning: Numerical value without unit or explicit format passed to TimeDelta, assuming days [astropy.time.core]\n"
     ]
    }
   ],
   "source": [
    "# lamost = datetime(year = 2017, month= 12, day = 22, hour =16, minute = 28, second = 3)\n",
    "plot_radial_velocity(m1, m2, period , eccentricity, inclination, t0 , plot_companion = True)"
   ]
  },
  {
   "cell_type": "code",
   "execution_count": 99,
   "metadata": {},
   "outputs": [],
   "source": [
    "plot_projected_orbit(m1, m2, period , eccentricity, inclination, parallax, t0)"
   ]
  },
  {
   "cell_type": "code",
   "execution_count": 10,
   "metadata": {},
   "outputs": [],
   "source": [
    "plot_projected_separation(m1, m2, period , eccentricity, inclination, parallax, t0)"
   ]
  }
 ],
 "metadata": {
  "kernelspec": {
   "display_name": "VENV",
   "language": "python",
   "name": "python3"
  },
  "language_info": {
   "codemirror_mode": {
    "name": "ipython",
    "version": 3
   },
   "file_extension": ".py",
   "mimetype": "text/x-python",
   "name": "python",
   "nbconvert_exporter": "python",
   "pygments_lexer": "ipython3",
   "version": "3.10.12"
  },
  "orig_nbformat": 4
 },
 "nbformat": 4,
 "nbformat_minor": 2
}
