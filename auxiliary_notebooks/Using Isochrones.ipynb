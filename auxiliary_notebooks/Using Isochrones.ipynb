{
 "cells": [
  {
   "attachments": {},
   "cell_type": "markdown",
   "id": "060ecff2-d104-4350-b7b0-0833409d7f40",
   "metadata": {},
   "source": [
    "# Imports and settings"
   ]
  },
  {
   "cell_type": "code",
   "execution_count": 1,
   "id": "454157ac-fc8c-4006-8759-6db525c65dcb",
   "metadata": {},
   "outputs": [],
   "source": [
    "import numpy as np\n",
    "import scipy\n",
    "import pandas as pd\n",
    "\n",
    "from astropy.table import Table\n",
    "from astropy import units as u\n",
    "from astropy import constants as const\n",
    "from astroquery.gaia import Gaia\n",
    "from astropy import table\n",
    "\n",
    "from tqdm import tqdm\n",
    "\n",
    "import stam\n",
    "\n",
    "import matplotlib.pyplot as plt\n",
    "from matplotlib import colors\n",
    "from matplotlib import ticker\n",
    "%matplotlib tk\n",
    "\n",
    "plt.style.use('Nature')\n",
    "\n",
    "from IPython.display import Image"
   ]
  },
  {
   "cell_type": "code",
   "execution_count": 2,
   "id": "54406ad4-9589-493c-8501-47e050908949",
   "metadata": {},
   "outputs": [],
   "source": [
    "# Nature standards: https://www.nature.com/nature/for-authors/final-submission\n",
    "figwidth_single = 89/25.4  # [inch]\n",
    "figwidth_double = 183/25.4  # [inch]"
   ]
  },
  {
   "attachments": {},
   "cell_type": "markdown",
   "id": "03187108-b97b-4af4-a533-7b87671d6ddd",
   "metadata": {},
   "source": [
    "# Read files"
   ]
  },
  {
   "cell_type": "code",
   "execution_count": 3,
   "id": "ed5c832f-8862-406b-8d84-7abfe8dd96f3",
   "metadata": {},
   "outputs": [],
   "source": [
    "# read the candidate table\n",
    "# sources = Table.read('./data/xmatch.fits')\n",
    "## i = 33 BH\n",
    "## i = 40 WD\n",
    "\n",
    "sources = Table.read('../table_A.fits')\n",
    "\n",
    "sources['mh'] = [0 if (qf >=8 or np.ma.is_masked(qf) or np.ma.is_masked(feh)) else feh for qf, feh in zip(sources['quality_flags'], sources['Fe_H_est'])]\n",
    "sources['av_final'] = [acrist if np.ma.is_masked(bayestar) else bayestar for acrist, bayestar in zip(sources['av_acrist'], sources['av_bayestar'])]"
   ]
  },
  {
   "cell_type": "code",
   "execution_count": 6,
   "id": "92282cd9",
   "metadata": {},
   "outputs": [],
   "source": [
    "sources = Table.read('../table_cut.fits', format='fits')\n",
    "\n",
    "sources['mh_for_mass_interp'] = [feh_cluster if (qf >=8 or np.ma.is_masked(qf) or np.ma.is_masked(feh)) else feh for qf, feh, feh_cluster in zip(sources['quality_flags'], sources['Fe_H_est'],sources['Fe_H_cluster']) ]\n",
    "sources['av_for_mass_interp'] = [acrist if np.ma.is_masked(bayestar) else bayestar for acrist, bayestar in zip(sources['av_acrist'], sources['av_bayestar'])]"
   ]
  },
  {
   "cell_type": "code",
   "execution_count": 5,
   "id": "a1abb3f2",
   "metadata": {},
   "outputs": [],
   "source": [
    "sources = Table.read('../table_B.fits')"
   ]
  },
  {
   "cell_type": "code",
   "execution_count": 7,
   "id": "eb642b61-2374-482f-9ef4-bdddbb4ee13c",
   "metadata": {},
   "outputs": [
    {
     "name": "stdout",
     "output_type": "stream",
     "text": [
      "Taking PARSEC files from ../data/PARSEC v1.2S/Gaia DR3/\n"
     ]
    }
   ],
   "source": [
    "# read the PARSEC models\n",
    "PARSEC_path = '../data/PARSEC v1.2S/Gaia DR3/'\n",
    "models = stam.getmodels.read_parsec(path=PARSEC_path)"
   ]
  },
  {
   "cell_type": "code",
   "execution_count": 10,
   "id": "36963a21-a592-439a-92be-5c16327120f8",
   "metadata": {},
   "outputs": [
    {
     "name": "stderr",
     "output_type": "stream",
     "text": [
      "WARNING: UnitsWarning: ''electron'.s**-1' did not parse as fits unit: At col 0, Unit ''electron'' not supported by the FITS standard.  If this is meant to be a custom unit, define it with 'u.def_unit'. To have it recognized inside a file reader or other code, enable it with 'u.add_enabled_units'. For details, see https://docs.astropy.org/en/latest/units/combining_and_defining.html [astropy.units.core]\n",
      "WARNING: UnitsWarning: 'log(cm.s**-2)' did not parse as fits unit: 'log' is not a recognized function If this is meant to be a custom unit, define it with 'u.def_unit'. To have it recognized inside a file reader or other code, enable it with 'u.add_enabled_units'. For details, see https://docs.astropy.org/en/latest/units/combining_and_defining.html [astropy.units.core]\n",
      "WARNING: UnitsWarning: 'dex' did not parse as fits unit: At col 0, Unit 'dex' not supported by the FITS standard.  If this is meant to be a custom unit, define it with 'u.def_unit'. To have it recognized inside a file reader or other code, enable it with 'u.add_enabled_units'. For details, see https://docs.astropy.org/en/latest/units/combining_and_defining.html [astropy.units.core]\n"
     ]
    }
   ],
   "source": [
    "# Gaia DR3 clean 100pc for HR diagram plot\n",
    "gaia = Table.read('../data/other/GaiaDR3_100pc_clean.fits')"
   ]
  },
  {
   "attachments": {},
   "cell_type": "markdown",
   "id": "920f4b97-1cd6-4eed-b273-5fc91506e7ff",
   "metadata": {},
   "source": [
    "# Verify that the isochrone interpolation is OK"
   ]
  },
  {
   "cell_type": "code",
   "execution_count": 62,
   "id": "3c3197a2-b282-4e62-825f-ffb2d012275c",
   "metadata": {},
   "outputs": [],
   "source": [
    "# age = 0.16  # [Gyr]\n",
    "i = 5\n",
    "# age = np.round(10**sources['log_age_50'][i] * 1e-9,2)\n",
    "log_age = sources['log_age_50'][i]   # [dex]\n",
    "log_age_res = 0.025  # [dex]\n",
    "mh = np.round(np.max([np.min([sources['mh_for_mass_interp'][i], 0.6]), -2]), 1)  # [M/H] round to the nearest available track  # [M/H]\n",
    "# mh = sources['mh_xgboost'][i]\n",
    "# age_res = -0.1  # fractional age bin resolution (the minus marks it as a fractional value)\n",
    "stage_min = 0  # pre-main sequence\n",
    "stage_max = 3  # red giant branch\n",
    "mass_min = 0  # [Msun]\n",
    "mass_max = 8  # [Msun]"
   ]
  },
  {
   "cell_type": "code",
   "execution_count": 71,
   "id": "bec0069b-1406-4efd-ab62-862888ab51fb",
   "metadata": {},
   "outputs": [],
   "source": [
    "filename = './CheckTrackInterpolation'\n",
    "\n",
    "tracks = stam.gentracks.get_isotrack(models, [log_age, mh], params=(\"log_age\", \"mh\"), return_table=True,\n",
    "                                     log_age_res=log_age_res, mass_min=mass_min, mass_max=mass_max,\n",
    "                                     stage=None, stage_min=stage_min, stage_max=stage_max, sort_by=\"age\", color_filter1=\"G_BPmag\", color_filter2=\"G_RPmag\",\n",
    "                 mag_filter=\"Gmag\")\n",
    "\n",
    "color = \"bp_rp\"\n",
    "magnitude = \"mg\"\n",
    "# color = \"B_I\"\n",
    "# magnitude = \"V\"\n",
    "\n",
    "x = np.array(tracks[\"bp_rp\"])\n",
    "y = np.array(tracks[\"mg\"])\n",
    "z = np.array(tracks[\"mass\"])\n",
    "\n",
    "xstep=0.05\n",
    "ystep=0.05\n",
    "\n",
    "def tracks2grid(tracks, xparam = \"bp_rp\", yparam = \"mg\", xstep=0.05, ystep=0.05):\n",
    "\n",
    "    xmin = np.min(np.around(tracks[xparam], -int(np.round(np.log10(xstep)))))\n",
    "    xmax = np.max(np.around(tracks[xparam], -int(np.round(np.log10(xstep)))))\n",
    "    ymin = np.min(np.around(tracks[yparam], -int(np.round(np.log10(ystep)))))\n",
    "    ymax = np.max(np.around(tracks[yparam], -int(np.round(np.log10(ystep)))))\n",
    "    x, y = np.meshgrid(np.arange(xmin, xmax, xstep), np.arange(ymin, ymax, ystep))\n",
    "            \n",
    "    return x, y, xmin, xmax, ymin, ymax\n",
    "\n",
    "grid_x, grid_y, xmin, xmax, ymin, ymax = tracks2grid(tracks, xstep=xstep, ystep=ystep)\n",
    "\n",
    "fun_type = \"linear\"\n",
    "\n",
    "interp = scipy.interpolate.RBFInterpolator(np.array([x, y]).T, z, kernel=fun_type)\n",
    "# interp = scipy.interpolate.LinearNDInterpolator(np.array([x, y]).T, z, fill_value=0)\n",
    "\n",
    "grid = np.array([grid_x, grid_y])\n",
    "grid_flat = grid.reshape(2, -1).T\n",
    "grid_z = interp(grid_flat).reshape(grid_x.shape)\n",
    "# grid_z = scipy.interpolate.griddata(np.array([x, y]).T, z, grid_flat, method=\"cubic\").reshape(2, -1).T\n",
    "\n",
    "\n",
    "fig, ax = plt.subplots(figsize=(figwidth_single, figwidth_single), tight_layout=True)\n",
    "ax.plot(x, y, 'ko', markersize=1)\n",
    "h = ax.imshow(grid_z, origin=\"lower\", extent=[xmin, xmax, ymin, ymax], cmap='viridis', aspect='auto')\n",
    "\n",
    "\n",
    "## plot selected source on the diagram\n",
    "\n",
    "##### without correcting for extinction\n",
    "bp_rp = sources[color][i]\n",
    "mg = sources[magnitude][i]\n",
    "ax.plot(bp_rp, mg, '.r',label='original')\n",
    "ax.text(bp_rp*1.05, mg*0.95, f\"{interp(np.array([[bp_rp, mg]]))[0]:.2f}M$_\\odot$\", c='r', fontsize=6, va=\"baseline\", ha=\"left\")\n",
    "\n",
    "#### cluster extinction correction\n",
    "e_bv = sources['av_for_mass_interp'][i]/3.1\n",
    "e_bprp, A_G = stam.gaia.get_extinction_in_band(e_bv,mag_filter=\"G\",color_filter1='G_BP',color_filter2='G_RP')\n",
    "bp_rp = sources[color][i] - e_bprp\n",
    "mg = sources[magnitude][i] - A_G\n",
    "ax.plot(bp_rp, mg, '.', c='yellow',label='dereddened')\n",
    "ax.text(bp_rp*1.05, mg*0.95, f\"{interp(np.array([[bp_rp, mg]]))[0]:.2f}M$_\\odot$\", c='yellow', fontsize=6, va=\"baseline\", ha=\"left\")\n",
    "\n",
    "plt.colorbar(h, label=r\"Mass (M$_\\odot$)\")\n",
    "ax.set_xlabel(r\"$G_\\text{BP}-G_\\text{RP}$\")\n",
    "ax.set_ylabel(r\"$G$\")\n",
    "ax.set_title(f\"{10**log_age*1e-6:.1f} Myr, [M/H]={mh:.2f}; {fun_type} interpolation\")\n",
    "ax.invert_yaxis()\n",
    "ax.legend()\n",
    "plt.show()\n",
    "\n",
    "# fig.savefig(filename + \".png\", dpi=300)\n",
    "# Image(filename + \".png\")\n"
   ]
  },
  {
   "attachments": {},
   "cell_type": "markdown",
   "id": "0db2fa0b-6392-4a19-a42d-7ba25d429853",
   "metadata": {
    "tags": []
   },
   "source": [
    "# Assign masses, and determine red-excess probability"
   ]
  },
  {
   "cell_type": "code",
   "execution_count": 11,
   "id": "0aff21e1-7941-4da5-8738-39560bc0ec84",
   "metadata": {},
   "outputs": [],
   "source": [
    "log_age_res = 0.025  # [dex]\n",
    "stage_min = 0  # pre-main sequence\n",
    "stage_max = 3  # red giant branch\n",
    "mass_min = 0  # [Msun]\n",
    "mass_max = 8  # [Msun]\n",
    "reddening_key = \"av_for_mass_interp\"\n",
    "n_realizations = 10000\n",
    "correct_extinction = True"
   ]
  },
  {
   "cell_type": "code",
   "execution_count": 12,
   "id": "7443d4d0-2532-4890-9336-ea237175b808",
   "metadata": {},
   "outputs": [],
   "source": [
    "# initialize\n",
    "sources['m1'] = np.full(len(sources),np.nan)\n",
    "sources['m1_err'] = np.full(len(sources),np.nan)\n",
    "sources['red_excess_prob'] = np.full(len(sources),np.nan)"
   ]
  },
  {
   "cell_type": "code",
   "execution_count": null,
   "id": "12d5d70f-aabe-48ac-85e0-6d11e86800b5",
   "metadata": {},
   "outputs": [],
   "source": [
    "for i in tqdm(range(len(sources))):\n",
    "    # get age and metallicity of current source\n",
    "    log_age = sources['log_age_50'][i]\n",
    "    mh = np.round(np.max([np.min([sources['mh_for_mass_interp'][i], 0.6]), -2]), 1)  # [M/H] round to the nearest available track\n",
    "    try:\n",
    "    #  # assign mass and red-excess probability\n",
    "          sources['m1'][i], sources['m1_err'][i], sources['red_excess_prob'][i] = stam.run.multirun(sources[i:i+1], vals=[log_age, mh], params=(\"log_age\", \"mh\"), suffix=\"\", is_save=False,\n",
    "                                                                                            track_type=\"isotrack\", assign_param=\"mass\", get_excess=\"red\", is_extrapolate=False, rbf_func=\"linear\",\n",
    "                                                                                              output_type=\"csv\", output_path=\"./stam_output/\", n_realizations=n_realizations, interp_fun=\"griddata\",\n",
    "                                                                                              models=models, correct_extinction=correct_extinction, reddening_key=reddening_key,\n",
    "                                                                                              use_reddening_key=True, mass_min=mass_min, mass_max=mass_max,stage=None, stage_min=stage_min, stage_max=stage_max, log_age_res=log_age_res)\n",
    "    \n",
    "        # s1, s2, sources['parsec_red_excess_prob'][i] = stam.run.multirun(sources[i:i+1], vals=[log_age, mh], params=(\"log_age\", \"mh\"), suffix=\"\", is_save=True,\n",
    "        #                                                                                     track_type=\"isotrack\", assign_param=\"mass\", get_excess=\"red\", is_extrapolate=False, rbf_func=\"linear\",\n",
    "        #                                                                                     output_type=\"csv\", output_path=\"./stam_output/\", n_realizations=n_realizations, interp_fun=\"griddata\",\n",
    "        #                                                                                     models=models, correct_extinction=correct_extinction, reddening_key=reddening_key,\n",
    "        #                                                                                     use_reddening_key=True, mass_min=mass_min, mass_max=mass_max,stage=None, stage_min=stage_min, stage_max=stage_max, log_age_res=log_age_res,\n",
    "        #                                                                                     color_filter1=\"B\", color_filter2=\"I\", mag_filter=\"V\")\n",
    "    except:\n",
    "        print(f\"{i}: couldn't assign\")"
   ]
  },
  {
   "cell_type": "markdown",
   "id": "5a4ab22a",
   "metadata": {},
   "source": [
    "# Comparison of interpolated masses, with NSS masses"
   ]
  },
  {
   "cell_type": "code",
   "execution_count": null,
   "id": "c0464bb9-9c21-46f5-a1a8-2733a4c6f5fd",
   "metadata": {},
   "outputs": [],
   "source": [
    "figname = \"./img/M1_comparison\"\n",
    "\n",
    "fig, ax = plt.subplots(figsize=(figwidth_single, figwidth_single), tight_layout=True)\n",
    "\n",
    "# ax.hist(sources['m1']- m1)\n",
    "ax.errorbar(sources['m1'], sources['parsec_m1'], xerr=np.array([sources['m1'] - sources['m1_lower'], sources['m1_upper']-sources['m1']]), yerr=sources['parsec_m1_parsec_error'], fmt='.k')\n",
    "ax.plot([0.5, 2.5], [0.5 ,2.5], '--r')\n",
    "ax.set_xlabel(r'$M_{1,\\text{NSS}}$')\n",
    "ax.set_ylabel(r'$M_{1,\\text{PARSEC}}$')\n",
    "# ax.set_aspect('equal')\n",
    "\n",
    "\n",
    "# fig.savefig(figname + \".png\", dpi=300)\n",
    "# Image(figname + \".png\")"
   ]
  },
  {
   "cell_type": "markdown",
   "id": "2b700dec",
   "metadata": {},
   "source": [
    "# Plot effect of dereddening on CMD"
   ]
  },
  {
   "cell_type": "code",
   "execution_count": null,
   "id": "2d0624af-b8b8-44ea-90d6-1dd1bd7e5373",
   "metadata": {},
   "outputs": [],
   "source": [
    "figname = \"./img/CMD_M1_PARSEC\"\n",
    "\n",
    "fig, ax = plt.subplots(figsize=(figwidth_single, figwidth_single), tight_layout=True)\n",
    "\n",
    "ax.hist2d(gaia[\"bp_rp\"], gaia[\"mg\"], bins=500, cmap=\"Greys\", norm=colors.PowerNorm(0.5), zorder=0.5)\n",
    "\n",
    "\n",
    "correct_extinction = True\n",
    "\n",
    "if correct_extinction:\n",
    "    e_bv = sources['a_v_50'] / 3.1\n",
    "    e_bprp, A_G = stam.gaia.get_extinction_in_gaia_band(e_bv)\n",
    "    bp_rp = sources[\"bp_rp\"] - e_bprp\n",
    "    mg = sources[\"mg\"] - A_G\n",
    "else:\n",
    "    bp_rp = sources[\"bp_rp\"]\n",
    "    mg = sources[\"mg\"]\n",
    "\n",
    "h = ax.scatter(bp_rp, mg, s=5, c=m1)\n",
    "ax.invert_yaxis()\n",
    "\n",
    "ax.set_xlabel(r\"$G_\\text{BP} - G_\\text{RP}$\")\n",
    "ax.set_ylabel(r\"$G_\\text{abs}$\")\n",
    "\n",
    "ax.set_xlim([-1, 5.5])\n",
    "ax.set_ylim([17.6, -2])\n",
    "\n",
    "plt.colorbar(h, label=r'$M_{1,\\text{PARSEC}}$')\n",
    "\n",
    "plt.show()\n",
    "\n",
    "# fig.savefig(figname + \".png\", dpi=300)\n",
    "# Image(figname + \".png\")"
   ]
  },
  {
   "cell_type": "code",
   "execution_count": null,
   "id": "b7ea650b-08a2-48cd-a253-c0d9f960b1a4",
   "metadata": {},
   "outputs": [],
   "source": [
    "figname = \"./img/CMD_M1_NSS\"\n",
    "\n",
    "\n",
    "fig, ax = plt.subplots(figsize=(figwidth_single, figwidth_single), tight_layout=True)\n",
    "\n",
    "ax.hist2d(gaia[\"bp_rp\"], gaia[\"mg\"], bins=500, cmap=\"Greys\", norm=colors.PowerNorm(0.5), zorder=0.5)\n",
    "\n",
    "\n",
    "correct_extinction = False\n",
    "\n",
    "if correct_extinction:\n",
    "    e_bv = sources['a_v_50'] / 3.1\n",
    "    e_bprp, A_G = stam.gaia.get_extinction_in_gaia_band(e_bv)\n",
    "    bp_rp = sources[\"bp_rp\"] - e_bprp\n",
    "    mg = sources[\"mg\"] - A_G\n",
    "else:\n",
    "    bp_rp = sources[\"bp_rp\"]\n",
    "    mg = sources[\"mg\"]\n",
    "\n",
    "h = ax.scatter(bp_rp, mg, s=5, c=sources['m1'])\n",
    "\n",
    "ax.invert_yaxis()\n",
    "\n",
    "ax.set_xlabel(r\"$G_\\text{BP} - G_\\text{RP}$\")\n",
    "ax.set_ylabel(r\"$G_\\text{abs}$\")\n",
    "\n",
    "plt.colorbar(h, label=r'$M_{1,\\text{NSS}}$')\n",
    "\n",
    "ax.set_xlim([-1, 5.5])\n",
    "ax.set_ylim([17.6, -2])\n",
    "\n",
    "plt.show()\n",
    "\n",
    "# fig.savefig(figname + \".png\", dpi=300)\n",
    "# Image(figname + \".png\")"
   ]
  },
  {
   "cell_type": "code",
   "execution_count": 15,
   "id": "8552fada-22a7-437c-91fc-2f36ed0f1899",
   "metadata": {},
   "outputs": [],
   "source": [
    "from astropy.io import fits\n",
    "hdu = fits.BinTableHDU(sources)\n",
    "hdu.writeto('xmatch.fits',overwrite=True)"
   ]
  }
 ],
 "metadata": {
  "kernelspec": {
   "display_name": "Python 3 (ipykernel)",
   "language": "python",
   "name": "python3"
  },
  "language_info": {
   "codemirror_mode": {
    "name": "ipython",
    "version": 3
   },
   "file_extension": ".py",
   "mimetype": "text/x-python",
   "name": "python",
   "nbconvert_exporter": "python",
   "pygments_lexer": "ipython3",
   "version": "3.10.12"
  }
 },
 "nbformat": 4,
 "nbformat_minor": 5
}
