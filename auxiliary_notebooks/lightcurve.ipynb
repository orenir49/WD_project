{
 "cells": [
  {
   "cell_type": "code",
   "execution_count": 1,
   "metadata": {},
   "outputs": [],
   "source": [
    "import numpy as np\n",
    "import matplotlib.pyplot as plt\n",
    "from astropy.table import Table\n",
    "import lightkurve as lk\n",
    "from lightkurve.periodogram import LombScarglePeriodogram\n",
    "\n",
    "%matplotlib tk"
   ]
  },
  {
   "cell_type": "code",
   "execution_count": 2,
   "metadata": {},
   "outputs": [],
   "source": [
    "tb = Table.read('../table_hst.fits', format='fits')\n",
    "# tb = Table.read('../table_B.fits', format='fits')"
   ]
  },
  {
   "cell_type": "code",
   "execution_count": 13,
   "metadata": {},
   "outputs": [
    {
     "name": "stderr",
     "output_type": "stream",
     "text": [
      "Could not resolve 99.98205481285426 +-27.185892179151228 to a sky position.\n",
      "c:\\Users\\ASUS\\code\\WD_project\\VENV\\Lib\\site-packages\\lightkurve\\search.py:494: LightkurveWarning: Cannot download from an empty search result.\n",
      "  warnings.warn(\n"
     ]
    },
    {
     "data": {
      "text/html": [
       "SearchResult containing 0 data products."
      ],
      "text/plain": [
       "SearchResult containing 0 data products."
      ]
     },
     "execution_count": 13,
     "metadata": {},
     "output_type": "execute_result"
    }
   ],
   "source": [
    "# i = 249\n",
    "i = 5\n",
    "ra = tb[i]['ra']\n",
    "dec = tb[i]['dec']\n",
    "\n",
    "srch = lk.search_lightcurve(f'{ra} +{dec}',radius = 1)\n",
    "lcs = srch.download_all()\n",
    "srch\n",
    "# lcs[3]['quality'] = np.zeros(len(lcs[3]['quality']))"
   ]
  },
  {
   "cell_type": "code",
   "execution_count": 12,
   "metadata": {},
   "outputs": [
    {
     "data": {
      "text/plain": [
       "<Axes: xlabel='Period [$\\\\mathrm{d}$]', ylabel='Power'>"
      ]
     },
     "execution_count": 12,
     "metadata": {},
     "output_type": "execute_result"
    }
   ],
   "source": [
    "lcs[0].remove_outliers(20).plot(normalize='ppm')\n",
    "pg = lcs[0].remove_outliers(3).to_periodogram(maximum_period = 20)\n",
    "pg.plot(view='period')"
   ]
  },
  {
   "cell_type": "code",
   "execution_count": 6,
   "metadata": {},
   "outputs": [
    {
     "data": {
      "text/plain": [
       "<Axes: xlabel='Time - 2457000 [BTJD days]', ylabel='Normalized Flux'>"
      ]
     },
     "execution_count": 6,
     "metadata": {},
     "output_type": "execute_result"
    }
   ],
   "source": [
    "fig,ax = plt.subplots(figsize=(10,5))\n",
    "lcs[0].plot(ax=ax, normalize='ppm', label='raw')\n",
    "pg.model(time = lcs[0].time, frequency = pg.frequency_at_max_power).plot(ax=ax,lw=3, ls='--', c='red')\n"
   ]
  },
  {
   "cell_type": "code",
   "execution_count": 7,
   "metadata": {},
   "outputs": [
    {
     "name": "stderr",
     "output_type": "stream",
     "text": [
      "c:\\Users\\ASUS\\code\\WD_project\\VENV\\Lib\\site-packages\\lightkurve\\collections.py:213: LightkurveWarning: The following columns will be excluded from stitching because the column types are incompatible: {'sap_bkg_err', 'sap_bkg', 'sap_flux'}\n",
      "  warnings.warn(\n"
     ]
    },
    {
     "ename": "KeyboardInterrupt",
     "evalue": "",
     "output_type": "error",
     "traceback": [
      "\u001b[1;31m---------------------------------------------------------------------------\u001b[0m",
      "\u001b[1;31mKeyboardInterrupt\u001b[0m                         Traceback (most recent call last)",
      "\u001b[1;32mc:\\Users\\ASUS\\code\\WD_project\\auxiliary_notebooks\\lightcurve.ipynb Cell 6\u001b[0m line \u001b[0;36m7\n\u001b[0;32m      <a href='vscode-notebook-cell:/c%3A/Users/ASUS/code/WD_project/auxiliary_notebooks/lightcurve.ipynb#W5sZmlsZQ%3D%3D?line=4'>5</a>\u001b[0m snr \u001b[39m=\u001b[39m pg\u001b[39m.\u001b[39mflatten()\n\u001b[0;32m      <a href='vscode-notebook-cell:/c%3A/Users/ASUS/code/WD_project/auxiliary_notebooks/lightcurve.ipynb#W5sZmlsZQ%3D%3D?line=5'>6</a>\u001b[0m seismology \u001b[39m=\u001b[39m snr\u001b[39m.\u001b[39mto_seismology()\n\u001b[1;32m----> <a href='vscode-notebook-cell:/c%3A/Users/ASUS/code/WD_project/auxiliary_notebooks/lightcurve.ipynb#W5sZmlsZQ%3D%3D?line=6'>7</a>\u001b[0m seismology\u001b[39m.\u001b[39;49mestimate_numax()\n\u001b[0;32m      <a href='vscode-notebook-cell:/c%3A/Users/ASUS/code/WD_project/auxiliary_notebooks/lightcurve.ipynb#W5sZmlsZQ%3D%3D?line=7'>8</a>\u001b[0m seismology\u001b[39m.\u001b[39mestimate_deltanu(numax\u001b[39m=\u001b[39mseismology\u001b[39m.\u001b[39mnumax\u001b[39m.\u001b[39mvalue)\n\u001b[0;32m      <a href='vscode-notebook-cell:/c%3A/Users/ASUS/code/WD_project/auxiliary_notebooks/lightcurve.ipynb#W5sZmlsZQ%3D%3D?line=8'>9</a>\u001b[0m seismology\u001b[39m.\u001b[39mdiagnose_numax()\n",
      "File \u001b[1;32mc:\\Users\\ASUS\\code\\WD_project\\VENV\\Lib\\site-packages\\lightkurve\\seismology\\core.py:661\u001b[0m, in \u001b[0;36mSeismology.estimate_numax\u001b[1;34m(self, method, **kwargs)\u001b[0m\n\u001b[0;32m    658\u001b[0m \u001b[39mif\u001b[39;00m method \u001b[39m==\u001b[39m \u001b[39m\"\u001b[39m\u001b[39macf2d\u001b[39m\u001b[39m\"\u001b[39m:\n\u001b[0;32m    659\u001b[0m     \u001b[39mfrom\u001b[39;00m \u001b[39m.\u001b[39;00m\u001b[39mnumax_estimators\u001b[39;00m \u001b[39mimport\u001b[39;00m estimate_numax_acf2d\n\u001b[1;32m--> 661\u001b[0m     result \u001b[39m=\u001b[39m estimate_numax_acf2d(\u001b[39mself\u001b[39;49m\u001b[39m.\u001b[39;49mperiodogram, \u001b[39m*\u001b[39;49m\u001b[39m*\u001b[39;49mkwargs)\n\u001b[0;32m    662\u001b[0m \u001b[39mself\u001b[39m\u001b[39m.\u001b[39mnumax \u001b[39m=\u001b[39m result\n\u001b[0;32m    663\u001b[0m \u001b[39mreturn\u001b[39;00m result\n",
      "File \u001b[1;32mc:\\Users\\ASUS\\code\\WD_project\\VENV\\Lib\\site-packages\\lightkurve\\seismology\\numax_estimators.py:176\u001b[0m, in \u001b[0;36mestimate_numax_acf2d\u001b[1;34m(periodogram, numaxs, window_width, spacing)\u001b[0m\n\u001b[0;32m    174\u001b[0m acf2d \u001b[39m=\u001b[39m np\u001b[39m.\u001b[39mzeros([\u001b[39mint\u001b[39m(window_width \u001b[39m/\u001b[39m \u001b[39m2\u001b[39m \u001b[39m/\u001b[39m fs) \u001b[39m*\u001b[39m \u001b[39m2\u001b[39m, \u001b[39mlen\u001b[39m(numaxs)])\n\u001b[0;32m    175\u001b[0m \u001b[39mfor\u001b[39;00m idx, numax \u001b[39min\u001b[39;00m \u001b[39menumerate\u001b[39m(numaxs):\n\u001b[1;32m--> 176\u001b[0m     acf \u001b[39m=\u001b[39m utils\u001b[39m.\u001b[39;49mautocorrelate(\n\u001b[0;32m    177\u001b[0m         periodogram, numax, window_width\u001b[39m=\u001b[39;49mwindow_width, frequency_spacing\u001b[39m=\u001b[39;49mfs\n\u001b[0;32m    178\u001b[0m     )  \u001b[39m# Return the acf at this numax\u001b[39;00m\n\u001b[0;32m    179\u001b[0m     acf2d[:, idx] \u001b[39m=\u001b[39m acf  \u001b[39m# Store the 2D acf\u001b[39;00m\n\u001b[0;32m    180\u001b[0m     metric[idx] \u001b[39m=\u001b[39m (np\u001b[39m.\u001b[39msum(np\u001b[39m.\u001b[39mabs(acf)) \u001b[39m-\u001b[39m \u001b[39m1\u001b[39m) \u001b[39m/\u001b[39m \u001b[39mlen\u001b[39m(\n\u001b[0;32m    181\u001b[0m         acf\n\u001b[0;32m    182\u001b[0m     )  \u001b[39m# Store the max acf power normalised by the length\u001b[39;00m\n",
      "File \u001b[1;32mc:\\Users\\ASUS\\code\\WD_project\\VENV\\Lib\\site-packages\\lightkurve\\seismology\\utils.py:151\u001b[0m, in \u001b[0;36mautocorrelate\u001b[1;34m(periodogram, numax, window_width, frequency_spacing)\u001b[0m\n\u001b[0;32m    146\u001b[0m p_sel \u001b[39m=\u001b[39m copy\u001b[39m.\u001b[39mdeepcopy(\n\u001b[0;32m    147\u001b[0m     periodogram\u001b[39m.\u001b[39mpower[xt \u001b[39m-\u001b[39m spread : xt \u001b[39m+\u001b[39m spread]\u001b[39m.\u001b[39mvalue\n\u001b[0;32m    148\u001b[0m )  \u001b[39m# Make the window selection\u001b[39;00m\n\u001b[0;32m    149\u001b[0m p_sel \u001b[39m-\u001b[39m\u001b[39m=\u001b[39m np\u001b[39m.\u001b[39mnanmean(p_sel)  \u001b[39m# Make it so that the selection has zero mean.\u001b[39;00m\n\u001b[1;32m--> 151\u001b[0m C \u001b[39m=\u001b[39m np\u001b[39m.\u001b[39;49mcorrelate(p_sel, p_sel, mode\u001b[39m=\u001b[39;49m\u001b[39m\"\u001b[39;49m\u001b[39mfull\u001b[39;49m\u001b[39m\"\u001b[39;49m)[\n\u001b[0;32m    152\u001b[0m     \u001b[39mlen\u001b[39m(p_sel) \u001b[39m-\u001b[39m \u001b[39m1\u001b[39m :\n\u001b[0;32m    153\u001b[0m ]  \u001b[39m# Correlated the resulting SNR space with itself\u001b[39;00m\n\u001b[0;32m    154\u001b[0m \u001b[39mreturn\u001b[39;00m C\n",
      "File \u001b[1;32m<__array_function__ internals>:200\u001b[0m, in \u001b[0;36mcorrelate\u001b[1;34m(*args, **kwargs)\u001b[0m\n",
      "File \u001b[1;32mc:\\Users\\ASUS\\code\\WD_project\\VENV\\Lib\\site-packages\\numpy\\core\\numeric.py:748\u001b[0m, in \u001b[0;36mcorrelate\u001b[1;34m(a, v, mode)\u001b[0m\n\u001b[0;32m    677\u001b[0m \u001b[39m@array_function_dispatch\u001b[39m(_correlate_dispatcher)\n\u001b[0;32m    678\u001b[0m \u001b[39mdef\u001b[39;00m \u001b[39mcorrelate\u001b[39m(a, v, mode\u001b[39m=\u001b[39m\u001b[39m'\u001b[39m\u001b[39mvalid\u001b[39m\u001b[39m'\u001b[39m):\n\u001b[0;32m    679\u001b[0m \u001b[39m    \u001b[39m\u001b[39mr\u001b[39m\u001b[39m\"\"\"\u001b[39;00m\n\u001b[0;32m    680\u001b[0m \u001b[39m    Cross-correlation of two 1-dimensional sequences.\u001b[39;00m\n\u001b[0;32m    681\u001b[0m \n\u001b[1;32m   (...)\u001b[0m\n\u001b[0;32m    746\u001b[0m \n\u001b[0;32m    747\u001b[0m \u001b[39m    \"\"\"\u001b[39;00m\n\u001b[1;32m--> 748\u001b[0m     \u001b[39mreturn\u001b[39;00m multiarray\u001b[39m.\u001b[39mcorrelate2(a, v, mode)\n",
      "\u001b[1;31mKeyboardInterrupt\u001b[0m: "
     ]
    }
   ],
   "source": [
    "## astroseismology\n",
    "pg = lcs.stitch().remove_outliers(3).to_periodogram(normalization='psd',\n",
    "                       minimum_frequency=1,\n",
    "                       maximum_frequency=1000)\n",
    "snr = pg.flatten()\n",
    "seismology = snr.to_seismology()\n",
    "seismology.estimate_numax()\n",
    "seismology.estimate_deltanu(numax=seismology.numax.value)\n",
    "seismology.diagnose_numax()\n",
    "seismology.estimate_mass(teff=2700)\n",
    "seismology.estimate_radius(teff=2700)\n",
    "seismology"
   ]
  }
 ],
 "metadata": {
  "kernelspec": {
   "display_name": "VENV",
   "language": "python",
   "name": "python3"
  },
  "language_info": {
   "codemirror_mode": {
    "name": "ipython",
    "version": 3
   },
   "file_extension": ".py",
   "mimetype": "text/x-python",
   "name": "python",
   "nbconvert_exporter": "python",
   "pygments_lexer": "ipython3",
   "version": "3.11.3"
  },
  "orig_nbformat": 4
 },
 "nbformat": 4,
 "nbformat_minor": 2
}
